{
  "nbformat": 4,
  "nbformat_minor": 0,
  "metadata": {
    "colab": {
      "name": "DMWA2.ipynb",
      "provenance": [],
      "collapsed_sections": []
    },
    "kernelspec": {
      "name": "python3",
      "display_name": "Python 3"
    }
  },
  "cells": [
    {
      "cell_type": "code",
      "metadata": {
        "id": "TD1u-8XlXxiR",
        "colab_type": "code",
        "outputId": "ccbd4fe1-87fd-4016-feb7-3555cfe54e39",
        "colab": {
          "base_uri": "https://localhost:8080/",
          "height": 119
        }
      },
      "source": [
        "import nltk\n",
        "nltk.download('movie_reviews')\n",
        "nltk.download('stopwords')\n",
        "nltk.download('wordnet')\n",
        "from nltk.corpus import movie_reviews\n",
        "from nltk.corpus import stopwords"
      ],
      "execution_count": 0,
      "outputs": [
        {
          "output_type": "stream",
          "text": [
            "[nltk_data] Downloading package movie_reviews to /root/nltk_data...\n",
            "[nltk_data]   Package movie_reviews is already up-to-date!\n",
            "[nltk_data] Downloading package stopwords to /root/nltk_data...\n",
            "[nltk_data]   Package stopwords is already up-to-date!\n",
            "[nltk_data] Downloading package wordnet to /root/nltk_data...\n",
            "[nltk_data]   Package wordnet is already up-to-date!\n"
          ],
          "name": "stdout"
        }
      ]
    },
    {
      "cell_type": "code",
      "metadata": {
        "id": "vhecnOeuRyj-",
        "colab_type": "code",
        "outputId": "078bf9b2-f32e-476a-b01f-3409e8dd2269",
        "colab": {
          "base_uri": "https://localhost:8080/",
          "height": 71
        }
      },
      "source": [
        "import string\n",
        "from nltk.stem import PorterStemmer, WordNetLemmatizer\n",
        "ps = PorterStemmer()\n",
        "lm = WordNetLemmatizer()\n",
        "sw = stopwords.words('english')\n",
        "def preprocesslist(words):\n",
        "  new = list()\n",
        "  for w in list(words):\n",
        "    if w in sw or w in string.punctuation:\n",
        "      continue\n",
        "    w = lm.lemmatize(ps.stem(w))\n",
        "    new.append(w)\n",
        "  return new\n",
        "\n",
        "print('Stopwords : ', sw)\n",
        "print('Punctuation : ', string.punctuation)"
      ],
      "execution_count": 0,
      "outputs": [
        {
          "output_type": "stream",
          "text": [
            "Stopwords :  ['i', 'me', 'my', 'myself', 'we', 'our', 'ours', 'ourselves', 'you', \"you're\", \"you've\", \"you'll\", \"you'd\", 'your', 'yours', 'yourself', 'yourselves', 'he', 'him', 'his', 'himself', 'she', \"she's\", 'her', 'hers', 'herself', 'it', \"it's\", 'its', 'itself', 'they', 'them', 'their', 'theirs', 'themselves', 'what', 'which', 'who', 'whom', 'this', 'that', \"that'll\", 'these', 'those', 'am', 'is', 'are', 'was', 'were', 'be', 'been', 'being', 'have', 'has', 'had', 'having', 'do', 'does', 'did', 'doing', 'a', 'an', 'the', 'and', 'but', 'if', 'or', 'because', 'as', 'until', 'while', 'of', 'at', 'by', 'for', 'with', 'about', 'against', 'between', 'into', 'through', 'during', 'before', 'after', 'above', 'below', 'to', 'from', 'up', 'down', 'in', 'out', 'on', 'off', 'over', 'under', 'again', 'further', 'then', 'once', 'here', 'there', 'when', 'where', 'why', 'how', 'all', 'any', 'both', 'each', 'few', 'more', 'most', 'other', 'some', 'such', 'no', 'nor', 'not', 'only', 'own', 'same', 'so', 'than', 'too', 'very', 's', 't', 'can', 'will', 'just', 'don', \"don't\", 'should', \"should've\", 'now', 'd', 'll', 'm', 'o', 're', 've', 'y', 'ain', 'aren', \"aren't\", 'couldn', \"couldn't\", 'didn', \"didn't\", 'doesn', \"doesn't\", 'hadn', \"hadn't\", 'hasn', \"hasn't\", 'haven', \"haven't\", 'isn', \"isn't\", 'ma', 'mightn', \"mightn't\", 'mustn', \"mustn't\", 'needn', \"needn't\", 'shan', \"shan't\", 'shouldn', \"shouldn't\", 'wasn', \"wasn't\", 'weren', \"weren't\", 'won', \"won't\", 'wouldn', \"wouldn't\"]\n",
            "Punctuation :  !\"#$%&'()*+,-./:;<=>?@[\\]^_`{|}~\n"
          ],
          "name": "stdout"
        }
      ]
    },
    {
      "cell_type": "code",
      "metadata": {
        "id": "mwLM9fCgX8rB",
        "colab_type": "code",
        "colab": {}
      },
      "source": [
        "documents = [(preprocesslist(movie_reviews.words(fileid)), category)\n",
        "            for category in movie_reviews.categories()\n",
        "            for fileid in movie_reviews.fileids(category)]"
      ],
      "execution_count": 0,
      "outputs": []
    },
    {
      "cell_type": "code",
      "metadata": {
        "id": "wqnvBW1_Ym51",
        "colab_type": "code",
        "outputId": "c1d2260b-c800-47bc-ca4e-3cc1f2ed321e",
        "colab": {
          "base_uri": "https://localhost:8080/",
          "height": 71
        }
      },
      "source": [
        "import random\n",
        "random.shuffle(documents)\n",
        "print(documents[0])\n",
        "import string\n",
        "print(',' in string.punctuation)"
      ],
      "execution_count": 0,
      "outputs": [
        {
          "output_type": "stream",
          "text": [
            "(['termin', 'bleak', 'reservoir', 'dog', 'brutal', 'violent', 'pulp', 'fiction', 'jacki', 'brown', 'seem', 'like', 'someth', 'light', 'heart', 'departur', 'quentin', 'tarantino', 'ho', 'hum', 'heist', 'stori', 'charact', 'speak', 'tarantino', 'languag', 'luckili', 'showcas', 'actor', 'convert', 'everi', 'morsel', 'possibl', 'enjoy', 'onto', 'screen', 'jacki', 'brown', 'troubl', 'entertain', 'averag', 'viewer', 'stori', 'introduc', 'u', 'street', 'wise', 'black', 'woman', 'name', 'jacki', 'brown', 'pam', 'grier', 'flight', 'attend', 'smuggl', 'money', 'drug', 'one', 'destin', 'anoth', 'work', 'bottom', 'barrel', 'airlin', 'receiv', 'minim', 'salari', 'one', 'day', 'pick', 'pair', 'feder', 'offici', 'includ', 'michael', 'keaton', 'tough', 'nose', 'ray', 'nicolet', 'found', 'handsom', 'load', 'cash', 'small', 'bag', 'smuggl', 'dope', 'jacki', 'work', 'weapon', 'dealer', 'name', 'ordel', 'samuel', 'l', 'jackson', 'pay', 'bail', 'money', 'suspect', 'tip', 'fed', 'oper', 'soon', 'jacki', 'ordel', 'plot', 'way', 'smuggl', '500', '000', 'nicolet', 'nose', 'help', 'ordel', 'oaf', 'partner', 'robert', 'de', 'niro', 'drug', 'ladi', 'friend', 'bridget', 'fonda', 'also', 'enter', 'pictur', 'bail', 'bondsman', 'name', 'max', 'cherri', 'robert', 'forster', 'take', 'like', 'jacki', 'agre', 'one', 'point', 'make', 'situat', 'even', 'complic', 'say', 'big', 'drop', 'undoubtedli', 'high', 'point', 'jacki', 'brown', 'numer', 'doubl', 'cross', 'take', 'place', 'mani', 'cloth', 'store', 'bag', 'fill', 'cash', 'switch', 'hand', 'unfortun', 'tarantino', 'take', 'sweet', 'time', 'get', 'offer', 'anyth', 'extrem', 'compel', 'alway', 'amus', 'exchang', 'charact', 'funniest', 'reparte', 'de', 'niro', 'fonda', 'becom', 'annoy', 'constant', 'bicker', 'make', 'fun', 'iq', 'lack', 'thereof', 'interest', 'relationship', 'max', 'jacki', '56', 'year', 'old', 'white', 'bail', 'bondsman', '44', 'year', 'old', 'black', 'flight', 'attend', 'believ', 'chemistri', 'got', 'commend', 'act', 'jacki', 'brown', 'serious', 'drag', 'exercis', 'enliven', 'fine', 'act', 'film', 'clock', 'lengthi', '2', 'hour', '35', 'minut', 'tarantino', 'talki', 'style', 'manag', 'hold', 'attent', 'heavili', 'dramat', 'lap', 'crucial', 'lull', 'storylin', 'also', 'fan', 'director', 'prepar', 'lighter', 'side', 'appear', 'jacki', 'brown', 'four', 'major', 'shoot', 'two', 'take', 'place', 'mostli', 'screen', 'expect', 'typic', 'tarantino', 'bloodbath', 'expect', 'frequent', 'foul', 'languag', 'mostli', 'come', 'way', 'ordel', 'much', 'dismay', 'spike', 'lee', 'use', 'n', 'word', 'part', 'regular', 'vocabulari', 'act', 'glue', 'hold', 'everyth', 'togeth', 'grier', 'make', 'sudden', 'comeback', 'reign', '1970', 'adequ', 'titl', 'charact', 'fact', 'flat', 'great', 'anoth', 'comeback', 'come', 'former', 'tv', 'star', 'robert', 'forster', 'grand', 'job', 'max', 'cherri', 'perfectli', 'cast', 'michael', 'keaton', 'make', 'presenc', 'felt', 'albeit', 'small', 'dignifi', 'moment', 'de', 'niro', 'ideal', 'play', 'lug', 'head', 'goe', 'edg', 'speak', 'bridget', 'fonda', 'rel', 'littl', 'ordel', 'bikini', 'clad', 'beach', 'babe', 'yet', 'manag', 'look', 'fairli', 'occupi', 'singl', 'sign', 'misplac', 'dialogu', 'snub', 'line', 'throughout', 'entir', 'movi', 'life', 'saver', 'mr', 'tarantino', 'stori', 'bare', 'hold', 'togeth', 'meantim', 'mere', 'get', 'small', 'tremor', 'whenev', 'defean', 'earthquak', 'oh', 'well', 'jacki', 'brown', 'manag', 'enjoy', 'detour', 'quentin', 'tarantino', 'even', 'lack', 'glare', 'origin', 'bite', 'previou', 'work', 'let', 'hope', 'director', 'gone', 'soft', 'u'], 'pos')\n",
            "True\n"
          ],
          "name": "stdout"
        }
      ]
    },
    {
      "cell_type": "code",
      "metadata": {
        "id": "_Q_zFALraEY0",
        "colab_type": "code",
        "outputId": "3714af19-789a-4f4a-f92b-ee338d2f40de",
        "colab": {
          "base_uri": "https://localhost:8080/",
          "height": 54
        }
      },
      "source": [
        "all_words = nltk.FreqDist([w.lower() for w in preprocesslist(movie_reviews.words())])\n",
        "print(all_words.most_common(15))"
      ],
      "execution_count": 0,
      "outputs": [
        {
          "output_type": "stream",
          "text": [
            "[('film', 11199), ('movi', 6977), ('one', 6029), ('like', 4137), ('charact', 3881), ('make', 3243), ('get', 3220), ('time', 3047), ('scene', 2671), ('even', 2611), ('good', 2475), ('play', 2382), ('stori', 2345), ('see', 2224), ('would', 2109)]\n"
          ],
          "name": "stdout"
        }
      ]
    },
    {
      "cell_type": "code",
      "metadata": {
        "id": "C6DUKbGeb0Ux",
        "colab_type": "code",
        "colab": {}
      },
      "source": [
        "word_features = list(dict(all_words.most_common(3000)).keys())"
      ],
      "execution_count": 0,
      "outputs": []
    },
    {
      "cell_type": "code",
      "metadata": {
        "id": "k2WLuVDoQkXO",
        "colab_type": "code",
        "colab": {}
      },
      "source": [
        "def find_features(document):\n",
        "  words = set(document)\n",
        "  return dict((w, w in words) for w in word_features)"
      ],
      "execution_count": 0,
      "outputs": []
    },
    {
      "cell_type": "code",
      "metadata": {
        "id": "DNuA2Nm1S2UG",
        "colab_type": "code",
        "colab": {}
      },
      "source": [
        "featuresets = [(find_features(rev), category) for (rev, category) in documents]"
      ],
      "execution_count": 0,
      "outputs": []
    },
    {
      "cell_type": "code",
      "metadata": {
        "id": "GVYiAAa7THel",
        "colab_type": "code",
        "outputId": "12c33a7e-33dc-4cc7-c47e-2a8e83670fa1",
        "colab": {
          "base_uri": "https://localhost:8080/",
          "height": 54
        }
      },
      "source": [
        "print(featuresets[100])"
      ],
      "execution_count": 0,
      "outputs": [
        {
          "output_type": "stream",
          "text": [
            "({'film': True, 'movi': False, 'one': True, 'like': True, 'charact': False, 'make': False, 'get': True, 'time': False, 'scene': False, 'even': False, 'good': False, 'play': True, 'stori': True, 'see': False, 'would': False, 'much': True, 'go': True, 'well': True, 'also': False, 'two': False, 'look': True, 'way': False, 'end': False, 'seem': False, 'first': False, 'take': False, '--': False, 'come': False, 'year': False, 'work': False, 'thing': False, 'plot': False, 'life': False, 'realli': False, 'know': False, 'perform': False, 'littl': False, 'peopl': False, 'love': False, 'could': False, 'man': False, 'bad': False, 'star': False, 'never': False, 'show': False, 'tri': False, 'director': False, 'best': False, 'new': False, 'give': False, 'mani': False, 'action': True, 'actor': False, 'want': False, 'say': False, 'u': False, 'watch': True, 'find': False, 'great': False, 'use': True, 'think': False, 'becom': False, 'role': False, 'act': False, 'anoth': True, 'back': True, 'effect': False, 'made': False, 'audienc': True, 'big': False, 'someth': False, 'world': False, 'turn': False, 'still': False, 'day': True, 'set': False, 'interest': True, 'feel': False, 'live': True, 'actual': False, 'howev': False, 'everi': False, 'though': False, 'guy': False, 'better': False, 'part': False, 'cast': False, 'comedi': False, 'real': False, 'enough': False, 'seen': False, 'around': False, 'point': False, 'old': False, 'name': False, 'last': True, 'run': False, 'origin': False, 'direct': True, 'long': False, 'may': False, 'fact': False, 'begin': False, 'right': False, 'woman': False, 'funni': False, 'script': False, 'minut': False, 'final': False, 'almost': False, 'lot': False, 'friend': False, 'noth': True, 'john': False, 'screen': False, 'place': False, 'although': True, 'moment': False, 'ever': False, 'start': False, 'sinc': False, 'line': False, 'person': False, 'young': False, 'call': False, 'kill': False, 'tell': False, 'help': False, 'happen': False, 'famili': True, 'without': False, 'wonder': True, 'three': False, 'quit': False, 'open': False, 'problem': False, 'believ': False, 'pictur': False, 'girl': False, 'least': True, 'complet': False, 'human': False, 'appear': False, 'need': False, 'sequenc': False, 'away': False, 'music': False, 'cours': False, 'goe': False, 'involv': False, 'laugh': False, 'might': False, 'high': True, 'alien': False, 'far': True, 'gener': False, 'reason': False, 'hand': False, 'rather': False, 'follow': False, 'must': True, 'anyth': False, 'bit': False, 'includ': False, 'put': False, 'entertain': False, 'american': False, 'enjoy': True, 'child': True, 'job': False, 'yet': False, 'kind': False, 'keep': True, 'sen': False, 'lead': False, 'hour': True, 'hard': True, 'special': False, 'wife': False, 'head': True, 'alway': False, 'fun': False, 'sure': False, 'differ': False, 'featur': False, 'leav': False, 'attempt': False, 'home': False, 'hollywood': False, 'instead': False, 'fall': False, 'expect': False, 'move': False, 'power': False, 'mind': False, 'war': False, 'entir': False, 'seri': False, 'black': False, 'creat': False, 'probabl': True, 'face': False, 'night': False, 'let': False, 'mean': False, 'kid': True, 'shot': False, 'half': False, 'meet': False, 'along': True, 'men': False, 'idea': False, 'everyth': False, 'pretti': False, 'forc': False, 'dialogu': False, 'togeth': False, 'bring': False, 'emot': False, 'talk': False, 'money': False, 'eye': True, 'humor': True, 'le': True, 'anim': True, 'thought': False, 'hope': False, 'care': False, 'question': False, 'given': False, 'save': True, 'father': True, 'whole': True, 'horror': False, 'fight': False, 'death': False, 'success': False, 'surpris': False, 'beauti': False, 'boy': False, 'everyon': False, 'citi': True, 'sex': False, 'manag': False, 'talent': False, 'done': False, 'releas': False, 'coupl': False, 'second': True, 'got': False, 'die': False, 'brother': False, 'sever': False, 'perhap': False, 'case': False, 'review': False, 'next': False, 'especi': False, 'murder': False, '10': True, 'relationship': False, 'product': False, 'mother': False, 'word': False, 'comic': True, 'base': False, 'unfortun': False, 'nice': False, 'possibl': False, 'chang': False, 'rest': True, '2': False, 'whose': False, 'evil': False, 'writer': False, 'joke': True, 'decid': False, 'rate': False, 'ask': False, 'simpli': False, 'small': True, 'jame': False, 'sound': False, 'present': False, 'mr': True, 'book': False, 'anyon': False, 'school': False, 'top': False, 'michael': False, 'dead': False, 'suppos': False, 'william': True, 'lack': False, 'town': False, 'left': False, 'develop': False, 'produc': False, 'true': False, 'lost': False, 'matter': False, 'written': False, 'main': False, 'group': False, 'hit': False, 'bore': False, 'wrong': False, 'found': True, 'hous': False, 'usual': False, 'fan': False, 'soon': False, 'close': False, 'someon': False, 'game': False, 'impress': False, 'el': False, 'except': False, 'learn': False, 'perfect': False, 'tv': True, 'side': False, 'realiz': False, 'voic': True, 'david': True, 'support': False, 'element': False, 'either': False, 'heart': False, 'stop': False, 'later': False, 'viewer': False, 'car': False, 'natur': False, 'style': False, 'provid': False, 'full': False, 'return': False, 'camera': False, 'robert': False, 'credit': False, 'deal': False, 'often': False, 'filmmak': False, 'son': False, 'hero': True, 'dark': False, 'behind': False, 'certainli': True, 'fail': False, 'write': False, 'titl': False, 'result': False, 'consid': False, 'said': False, 'team': True, 'despit': False, 'offic': False, 'scream': False, 'visual': False, 'view': False, 'classic': False, 'video': False, 'order': True, 'killer': False, 'basic': False, 'note': False, 'past': False, 'stand': False, 'critic': False, 'miss': False, 'recent': False, 'piec': False, 'mayb': False, 'experi': False, 'summer': False, 'mysteri': False, 'major': False, 'abl': False, 'exampl': False, 'situat': False, 'daughter': True, 'extrem': False, 'offer': False, 'theater': False, 'event': False, 'intellig': False, 'thriller': False, 'sort': False, 'white': True, 'dog': False, 'joe': False, 'break': False, 'drama': False, 'kevin': False, 'bodi': False, 'worth': True, 'earth': False, 'short': False, 'cut': False, 'level': False, 'version': False, 'plan': False, 'figur': False, 'art': False, 'dream': False, 'room': False, 'appar': True, 'self': False, 'read': False, 'worst': False, 'nearli': False, 'upon': False, 'ship': False, 'deliv': False, 'cop': True, 'light': False, 'screenplay': False, 'discov': False, 'age': False, 'earli': False, 'violenc': False, 'fine': False, 'throughout': False, 'carri': False, 'comput': False, 'jack': False, 'exactli': False, 'number': False, 'stupid': False, 'clich': False, 'state': False, 'obviou': False, 'known': False, 'genr': False, 'fiction': False, 'disney': False, 'other': False, 'wast': False, 'alreadi': False, 'fill': False, 'sometim': False, 'imagin': False, 'add': False, 'spend': False, 'five': False, 'guess': False, 'battl': False, 'space': False, 'wait': False, 'deep': False, 'form': False, 'prove': False, 'suspens': False, 'simpl': False, 'jacki': False, 'four': False, 'toward': False, 'king': False, 'twist': False, 'predict': False, 'touch': False, 'walk': True, 'convinc': False, 'pull': False, 'chase': False, 'allow': False, 'career': False, 'explain': False, 'flick': False, 'novel': False, 'prison': False, 'oscar': False, 'member': False, 'understand': True, 'hold': False, 'truli': False, 'portray': False, 'detail': False, 'husband': False, 'tom': True, 'import': False, '1': False, 'type': False, 'pace': False, 'strong': False, 'drug': False, 'sit': False, 'lee': False, 'god': False, 'peter': True, 'york': False, 'villain': True, 'sequel': False, 'rememb': False, 'continu': False, 'romant': False, 'parent': False, 'stay': False, 'win': False, 'respect': False, 'planet': False, 'ye': False, 'charm': False, 'late': False, 'remain': False, 'eventu': False, 'build': False, 'marri': False, 'tale': False, 'score': False, 'song': False, 'sexual': False, 'saw': False, 'quickli': False, 'happi': False, 'attent': False, 'materi': False, 'escap': False, 'project': False, 'disappoint': False, 'gun': False, 'chanc': True, 'excit': False, 'unlik': False, 'speak': False, 'mostli': False, 'harri': False, 'futur': False, 'de': False, 'singl': True, 'particularli': True, 'polit': False, 'definit': False, 'wors': False, 'co': False, 'wild': False, 'troubl': False, 'mention': False, 'paul': False, 'qualiti': False, 'polic': False, 'none': False, 'shoot': False, 'wit': True, 'thank': True, 'lose': False, 'crime': False, 'van': False, 'hell': False, 'larg': False, 'confus': False, 'pay': False, 'scienc': False, 'total': False, 'imag': False, 'apart': False, 'dr': False, 'smith': False, 'strang': False, 'mark': False, 'girlfriend': False, 'ultim': False, 'hilari': False, 'exist': False, 'dramat': False, 'obvious': False, 'televis': False, 'local': False, 'busi': False, 'rock': True, 'subject': False, 'pain': False, 'drive': False, 'georg': False, 'actress': False, 'popular': False, 'box': False, 'theme': False, 'absolut': False, 'alon': False, 'cover': False, 'annoy': False, 'screenwrit': False, 'bill': True, 'secret': False, 'within': False, 'million': False, 'pas': False, 'reveal': False, 'water': False, 'hate': False, 'among': False, 'taken': False, 'caus': False, 'premis': False, 'amaz': False, 'middl': False, 'serv': False, '3': False, 'easi': False, 'slow': False, 'aspect': False, 'across': False, 'flaw': False, 'pick': False, 'incred': False, 'chri': True, 'deserv': False, 'cool': False, 'ten': False, 'mission': False, 'poor': False, 'histori': False, 'whether': False, 'realiti': False, 'oh': False, 'crew': False, 'seriou': False, 'agent': False, 'similar': False, 'law': False, 'color': True, 'fear': False, 'motion': False, 'effort': True, 'contain': False, 'master': False, 'studio': False, 'grow': False, 'teenag': False, 'hear': False, 'near': False, 'america': False, 'attack': False, 'told': False, 'street': False, 'design': False, 'potenti': False, 'robin': False, 'vampir': False, 'doubt': False, 'stuff': False, 'ad': False, 'messag': False, 'wish': False, 'easili': False, 'ryan': False, 'inspir': False, 'parti': False, 'excel': False, 'mere': False, 'somehow': False, 'control': False, 'lie': False, 'blood': True, 'angel': False, 'fire': False, 'batman': False, 'jone': True, 'introduc': True, 'richard': False, 'red': False, 'terribl': False, 'straight': False, 'suffer': False, 'approach': False, 'difficult': False, 'went': False, 'ben': False, 'rich': False, 'ago': False, 'certain': False, 'romanc': False, 'appeal': False, 'countri': False, 'rare': False, 'fast': False, 'due': False, 'presenc': False, 'train': False, 'ridicul': False, 'familiar': False, 'compani': False, 'attract': False, 'clear': False, 'adult': True, 'answer': False, 'investig': False, 'throw': False, 'fli': False, 'smart': False, 'teen': False, 'promis': False, 'gone': False, 'low': False, 'accept': False, 'third': False, 'anyway': False, 'budget': False, 'class': False, 'date': False, 'surprisingli': False, 'edit': False, 'rise': False, '4': False, 'immedi': False, 'destroy': False, 'notic': False, 'cross': False, 'share': False, 'serious': False, 'rule': True, 'somewhat': False, 'clever': False, 'arriv': False, 'desper': True, 'choic': False, 'abil': False, 'previou': False, 'huge': False, 'jim': True, 'cinema': False, 'sister': False, 'former': False, 'mari': False, 'came': False, 'student': False, 'victim': False, 'wed': False, 'sweet': False, 'travel': False, 'latest': False, 'bob': False, 'danc': False, 'giant': False, 'occasion': True, 'adventur': False, 'park': False, 'beyond': False, 'shock': False, 'b': False, 'r': False, 'refer': False, 'artist': False, 'trailer': False, 'la': False, 'purpos': False, 'amus': True, 'sam': False, 'tone': False, 'truth': False, 'martin': False, 'catch': False, 'blue': False, 'scari': False, 'felt': False, 'solid': False, 'brilliant': False, 'murphi': False, 'steal': False, 'equal': False, 'bunch': False, 'subplot': False, 'stone': False, 'imposs': False, 'stage': False, 'land': True, 'suspect': False, 'captur': False, 'track': False, 'mess': False, 'aw': False, 'bond': False, 'insid': True, 'favorit': False, 'ride': False, 'execut': False, 'reach': False, 'handl': False, 'engag': False, 'describ': False, 'free': False, 'modern': False, 'adapt': False, 'treat': False, 'complex': False, 'wear': False, 'typic': True, 'hunt': True, 'search': False, 'decent': False, 'innoc': False, 'week': False, 'amount': False, 'posit': False, 'join': False, 'non': False, 'dumb': False, 'issu': False, 'perfectli': False, 'achiev': False, 'ex': False, 'privat': False, 'grace': False, 'air': False, 'silli': False, 'cameron': False, 'took': False, 'sign': False, 'requir': False, 'scott': False, 'genuin': False, 'suggest': False, 'e': False, 'pop': False, 'strike': False, 'frank': True, 'depth': False, 'heard': False, 'intens': False, 'cold': True, 'truman': False, 'surviv': False, 'door': False, 'monster': False, 'toy': False, 'bruce': False, 'list': False, 'overal': False, 'race': False, 'sight': False, 'mix': False, 'trek': False, 'carter': False, 'danger': False, 'express': False, 'step': False, 'outsid': False, 'chan': False, 'detect': False, 'forget': False, 'particular': True, 'mar': False, 'remind': False, 'neither': True, 'gag': False, 'govern': False, 'fashion': False, 'struggl': False, 'compar': False, 'send': False, 'machin': False, 'moral': False, 'club': False, 'drop': False, 'thrill': False, 'inform': False, 'spirit': False, 'l': False, 'brought': False, 'recommend': False, 'key': False, 'otherwis': False, 'ob': False, 'societi': False, 'plea': False, 'tim': False, '5': False, 'term': False, 'allen': False, 'wood': False, 'skill': False, 'foot': False, 'player': False, 'opportun': False, 'atmospher': False, 'memor': False, 'explor': False, 'variou': False, 'armi': False, 'mouth': False, 'west': False, 'willi': False, 'soundtrack': False, 'beat': False, 'jump': False, 'bare': False, 'odd': False, 'femal': False, 'haunt': False, 'english': False, 'rais': False, 'suit': False, 'magic': False, 'slightli': False, 'month': False, 'steve': False, 'univers': False, 'roll': False, 'occur': False, 'hank': False, 'lover': False, 'episod': False, 'cultur': False, 'minor': False, 'kiss': False, 'tension': False, 'biggest': False, 'manner': False, 'sing': False, 'focu': False, 'combin': False, 'respons': False, 'eddi': False, 'admit': False, 'avoid': False, 'earlier': False, 'steven': False, 'disast': False, 'creatur': False, 'today': False, 'babi': False, 'normal': False, 'six': False, '90': False, 'cannot': False, 'horribl': False, 'heavi': False, 'max': False, 'violent': False, 'hill': False, 'award': False, 'ground': False, 'intent': True, 'scare': False, 'formula': False, 'presid': False, 'rescu': False, 'ape': False, 'background': False, 'woodi': False, 'cute': False, 'front': False, 'fit': False, 'doctor': False, 'plenti': False, 'cinemat': False, 'leader': False, 'fi': False, 'command': False, 'arm': False, 'soldier': False, 'costum': False, 'simon': False, 'concern': False, 'sci': False, 'author': False, 'delight': True, 'concept': False, 'british': False, 'impact': False, 'commun': False, 'realist': False, 'enter': False, 'dull': False, 'constantli': False, 'fantasi': False, 'brief': False, 'standard': False, 'period': False, 'queen': False, 'iron': False, 'connect': False, 'gave': False, '8': False, 'menac': False, 'rush': False, 'trip': False, 'cinematographi': False, 'island': False, 'nick': False, 'remark': False, 'consist': False, 'brown': False, 'spent': False, 'quick': False, 'bug': False, 'grant': False, 'adam': False, 'doubl': False, 'road': False, 'agre': False, 'partner': False, 'subtl': False, 'dollar': False, 'fairli': False, 'seven': False, 'disturb': False, 'appropri': False, 'cameo': False, 'titan': False, 'virtual': False, 'count': False, 'pair': False, 'eat': False, 'cheap': False, 'suddenli': False, 'godzilla': False, 'dress': False, 'public': False, 'whatev': False, 'highli': False, 'store': False, 'flat': False, 'wise': False, 'fascin': False, 'satir': False, 'greatest': False, 'colleg': False, 'addit': False, 'common': False, 'inde': False, 'tradit': False, 'decad': False, 'wrote': False, 'buy': False, 'ii': False, 'mike': False, 'kick': False, 'brain': False, 'weak': False, 'physic': False, 'frame': False, 'buddi': False, 'appreci': False, 'stereotyp': False, 'tough': False, 'climax': False, 'relat': False, 'frighten': False, 'meanwhil': True, 'crimin': False, 'receiv': False, 'limit': False, 'clearli': False, 'warn': False, 'intrigu': False, 'x': False, 'centuri': False, 'shown': False, 'memori': False, 'crash': False, 'longer': False, 'hair': False, 'conclus': False, 'protagonist': False, 'sean': False, 'scientist': False, 'lawyer': False, 'camp': False, 'initi': False, 'chemistri': False, 'hot': False, 'band': False, 'draw': False, 'male': False, 'encount': False, 'terrif': False, 'languag': False, 'uniqu': False, 'asid': False, 'narrat': False, 'carrey': True, 'french': False, 'hang': False, 'billi': False, 'green': False, 'twenti': False, 'jerri': False, 'juli': False, 'individu': False, 'somewher': False, 'witch': False, 'hire': False, 'thin': False, 'slowli': False, 'display': False, 'spielberg': False, 'system': True, 'affect': False, 'center': False, 'jackson': False, 'sad': False, 'liter': False, 'valu': False, 'determin': False, 'devic': False, 'energi': False, 'visit': False, 'spot': False, 'technic': False, 'famou': False, 'okay': False, 'test': False, 'rob': False, 'sent': False, 'bos': False, 'etc': False, 'report': False, 'target': False, 'challeng': False, 'seemingli': False, 'caught': False, 'oper': False, 'damn': False, 'j': False, 'soul': False, 'fair': False, 'knew': False, 'posse': False, 'hole': False, 'kidnap': False, 'claim': False, 'wall': False, 'decis': False, 'social': False, 'intend': False, 'edg': False, 'ghost': False, 'cage': True, 'accent': False, 'commit': False, 'sell': False, '1998': False, 'motiv': False, 'legend': False, 'aliv': False, 'studi': False, 'tarzan': False, 'singer': False, 'collect': False, 'flashback': False, 'admir': False, 'readi': False, 'mad': False, 'central': False, 'tarantino': False, 'edward': False, 'judg': False, 'threaten': False, 'as': False, 'distract': False, 'storylin': False, 'thu': False, 'current': False, 'vega': False, 'averag': False, 'blow': False, 'onto': True, 'length': False, 'pure': False, 'desir': False, 'loud': False, 'match': False, 'hardli': False, 'led': False, 'teacher': True, 'medium': False, 'stick': False, 'mental': False, 'affair': False, 'bizarr': False, 'assist': False, 'travolta': False, 'conflict': False, 'fate': False, 'contact': False, 'guard': False, 'julia': False, 'opinion': False, 'accid': False, 'industri': False, 'confront': False, 'root': False, 'roger': False, 'phone': False, 'hong': False, 'jean': False, 'nomin': False, 'accomplish': False, '7': False, 'drag': False, 'smile': False, 'lame': False, 'unit': False, 'matthew': False, '000': False, 'surround': False, 'weird': False, 'independ': False, 'owner': False, 'satisfi': False, '80': False, 'thrown': False, 'christoph': False, 'burn': False, 'food': True, 'ladi': False, 'celebr': False, 'weapon': False, 'depress': False, 'speech': False, 'parodi': False, 'record': False, 'danni': False, 'nation': False, 'faith': False, '1997': False, 'blade': False, 'rent': False, 'debut': False, 'worker': False, 'gay': False, 'fox': False, 'fortun': False, 'practic': False, 'field': False, 'gore': False, 'replac': False, 'terror': False, 'rip': False, 'establish': False, 'fresh': False, 'fellow': False, 'embarrass': False, 'locat': False, '1999': False, 'news': False, 'evid': False, 'hors': False, 'gang': False, 'ann': False, 'paint': False, 'era': False, 'henri': False, 'wide': False, 'becam': False, 'invent': False, 'inevit': False, 'convent': False, 'plane': False, 'forward': False, 'superior': False, 'dude': False, 'jason': False, 'refus': False, 'explos': False, 'latter': False, 'shine': False, 'anderson': False, 'market': False, 'pleasur': False, 'jennif': False, 'board': False, 'model': False, 'rel': False, 'task': False, 'attitud': False, 'pathet': False, 'charg': False, 'epic': False, 'speed': False, 'elizabeth': False, 'russel': False, 'pulp': False, 'character': False, 'progress': False, 'check': False, 'frequent': False, 'c': False, 'seat': False, 'stephen': False, 'liner': False, 'process': False, 'footag': False, 'trust': False, 'chine': False, 'journey': False, 'graphic': False, 'remak': False, 'devil': False, 'season': False, 'younger': False, 'born': False, 'luca': False, 'folk': False, 'crazi': False, 'bar': False, 'bright': False, 'boyfriend': False, 'station': False, 'jimmi': False, 'depict': False, 'dougla': False, 'ident': False, 'older': False, 'cartoon': False, 'mood': False, 'sadli': False, 'hint': False, 'stunt': False, 'cri': True, 'convers': False, 'numer': False, 'intern': False, 'patient': False, 'creativ': False, 'hundr': False, 'fulli': False, 'trap': False, 'instanc': False, 'jay': False, 'mistak': False, 'wind': False, 'jeff': False, 'finish': False, 'opposit': False, 'jr': False, 'speci': False, 'comparison': False, 'stun': False, 'discus': False, 'profession': False, 'reveng': False, 'daniel': False, 'brutal': False, 'fault': False, 'alan': False, 'kong': False, 'fare': False, 'charl': False, 'masterpiec': False, 'interact': False, 'clean': False, 'captain': False, 'patrick': False, '20': False, 'assum': False, 'twice': False, 'ice': False, 'blame': False, 'spawn': False, 'ignor': False, 'witti': False, 'vision': False, 'crow': False, 'stretch': False, 'recogn': False, 'extra': False, 'silent': False, 'manipul': False, 'sleep': False, 'ruin': False, 'matt': False, 'fake': False, 'gibson': False, 'militari': False, 'hide': False, 'blair': False, 'nowher': False, 'cloth': False, 'essenti': False, 'contriv': False, 'woo': False, 'creepi': False, 'technolog': False, 'arnold': False, 'will': False, 'commerci': False, 'crowd': False, 'sole': False, 'trick': False, 'loo': False, 'kelli': False, 'boat': False, 'insult': False, 'press': False, 'toni': False, 'cash': False, 'object': False, 'suck': False, 'hall': False, 'shame': False, 'goal': False, 'ed': False, 'demonstr': False, 'price': False, 'shakespear': False, 'mulan': False, 'bottom': False, 'tie': False, 'tire': False, 'listen': False, 'notabl': False, 'knock': False, 'kept': False, 'bear': False, 'separ': False, 'fbi': False, 'fish': False, 'suicid': False, 'burton': False, 'organ': False, 'marriag': False, 'focus': False, 'hospit': False, 'pack': False, 'crap': False, 'observ': False, 'laughabl': False, 'denni': False, 'academi': False, 'floor': False, 'dimension': False, 'logic': False, 'trooper': False, 'thoma': False, 'charli': False, 'gross': True, 'prepar': False, 'poorli': False, 'comment': False, 'brook': False, 'snake': False, 'pointless': False, 'christma': False, 'convict': False, 'post': False, 'driver': False, 'campbel': False, 'mile': False, 'worthi': False, 'shallow': False, 'fantast': True, 'disappear': False, '13': False, 'forev': False, 'ill': False, 'superb': False, 'lone': False, 'fame': False, 'ray': False, 'resembl': False, 'insight': False, 'gain': False, 'demand': False, 'documentari': False, 'rang': False, 'necessari': False, 'tast': False, 'reli': False, 'passion': False, 'affleck': False, 'bank': False, 'rocki': False, 'vehicl': False, 'meant': False, 'excus': False, 'aid': False, 'tune': True, 'comed': False, 'sub': False, 'relief': False, 'spice': False, 'princess': False, 'dozen': False, 'abandon': False, 'rose': False, 'phantom': False, 'drink': False, 'nobodi': False, 'specif': False, 'advanc': False, 'exploit': False, 'unless': False, 'compel': False, 'angl': False, 'gangster': False, 'repres': False, 'tear': False, 'kate': False, 'craft': False, 'slave': False, 'interview': False, 'baldwin': False, 'flash': False, 'angri': False, 'heroin': False, 'drawn': False, 'safe': False, 'matrix': False, 'hotel': False, 'idiot': False, 'push': False, 'window': False, 'strength': False, 'destin': False, 'stuck': False, 'earn': False, 'file': False, 'content': False, 'bland': False, 'mine': False, 'unfunni': False, 'martial': False, 'choos': False, 'anti': False, 'bat': False, 'defin': False, 'secur': False, 'rain': False, 'patch': False, 'goofi': False, 'segment': False, 'cruis': False, 'slasher': False, 'sick': False, 'dad': True, 'failur': False, 'grand': False, 'fat': False, 'sport': False, 'blond': False, 'protect': False, 'ball': False, 'warrior': False, 'radio': False, 'dvd': False, 'punch': False, 'improv': False, 'termin': False, 'moor': False, 'winner': False, 'babe': False, 'nightmar': False, 'russian': False, 'robot': False, 'mediocr': False, 'nasti': False, 'damm': False, 'therefor': False, 'hurt': False, 'bomb': False, 'rival': False, 'ok': True, 'larri': False, 'urban': False, 'contrast': False, 'jar': False, 'terrorist': False, 'lynch': False, 'spectacular': False, 'proceed': False, 'scale': False, 'sentiment': False, 'complic': False, 'zero': False, 'crack': False, 'pg': False, 'up': False, 'wave': False, 'maintain': False, 'nake': False, 'smoke': False, 'symbol': False, 'transform': False, 'employ': False, 'offens': True, 'signific': False, 'johnni': False, 'maker': False, 'g': False, 'program': False, 'utterli': False, 'washington': False, 'wayn': False, 'court': False, 'tommi': False, 'plain': False, 'desert': False, 'jane': False, 'reaction': False, 'narr': False, 'seek': False, 'routin': False, 'sympathet': False, 'professor': False, 'ford': False, 'starship': False, 'welcom': False, 'gold': False, 'attend': False, 'chosen': False, 'enemi': False, 'mel': False, 'path': False, 'sexi': False, 'humour': False, 'shop': False, 'seth': False, 'explan': False, 'stumbl': False, 'bother': False, 'structur': False, '50': False, '70': False, 'honest': False, 'ami': False, 'lord': False, 'surfac': False, 'risk': False, '30': False, 'plu': False, 'tend': False, 'shift': False, 'capabl': False, 'cult': False, 'theatr': False, 'jedi': False, 'mob': False, 'psycholog': False, 'worri': False, 'round': False, 'remot': False, 'stock': False, 'broken': False, 'avail': False, 'reev': False, 'pilot': False, 'south': False, 'servic': False, 'vincent': False, 'likabl': False, 'eccentr': False, 'flynt': False, 'alex': False, 'eight': False, 'hugh': False, 'yeah': False, 'remov': False, 'depart': True, 'highlight': False, 'scheme': False, 'bloodi': False, '100': False, 'constant': False, 'rape': False, 'jail': False, 'veteran': False, 'cheesi': False, 'monkey': False, 'clue': False, 'carpent': False, 'supposedli': False, 'ugli': False, 'sandler': False, 'exchang': False, 'besid': False, 'hidden': False, 'brian': False, 'beast': False, 'regular': False, 'african': False, 'cinematograph': False, 'gift': False, 'outrag': False, 'histor': False, 'belong': False, 'teach': False, 'card': False, 'shadow': False, 'succe': False, 'anni': False, 'ted': False, 'viru': True, 'empti': False, 'gari': False, 'theatric': False, 'breath': False, 'reflect': False, 'japanes': False, 'neighbor': False, 'lucki': False, 'unbeliev': False, 'miller': False, 'wing': False, 'geniu': False, 'instinct': False, 'taylor': False, 'twin': False, 'bridg': False, 'warm': False, 'helen': False, 'substanc': False, 'catherin': False, 'frustrat': False, 'dread': False, 'bed': False, 'm': False, 'pie': False, 'f': False, 'al': False, 'badli': False, 'ring': False, 'copi': False, 'aim': False, 'intellectu': False, 'comfort': False, 'porn': False, 'seagal': False, 'statu': False, 'succeed': False, 'joy': False, 'church': False, '9': False, 'strip': False, 'thousand': False, 'bu': True, 'spi': False, 'hunter': False, 'serial': False, 'guilti': False, 'sky': False, 'overli': False, 'tragedi': False, 'thirti': False, 'forgotten': False, 'ahead': False, 'directli': False, 'hook': False, 'civil': False, 'began': False, 'heaven': False, 'beach': False, 'tabl': True, 'wander': False, 'super': False, 'slapstick': False, 'bound': False, 'trash': False, '6': False, 'quiet': False, 'confid': False, 'blockbust': False, 'utter': False, 'western': False, 'movement': False, 'luck': False, 'settl': False, 'wake': False, 'v': False, 'sourc': False, 'excess': False, 'consequ': False, 'sheer': False, 'bone': False, 'sea': False, 'stuart': False, 'knowledg': False, 'austin': False, 'matur': False, 'damon': False, 'myer': False, 'outstand': False, 'clair': False, 'argu': False, 'nuditi': False, 'accus': False, 'joan': False, 'size': False, 'loser': False, 'accompani': False, 'screw': False, 'associ': False, 'awar': False, 'cell': True, 'nuclear': False, '1996': False, 'oliv': False, 'storm': False, 'destruct': False, 'marvel': False, 'funniest': False, 'exact': False, 'revolv': False, 'cat': False, 'assign': False, 'driven': False, 'miser': False, 'walter': False, 'altern': False, 'credibl': False, 'footbal': False, 'cheer': False, 'con': False, 'crystal': False, 'consider': False, 'flesh': False, 'sharp': False, 'hip': False, 'core': False, 'buck': False, 'thoroughli': False, 'mask': False, 'skin': True, 'chicken': False, 'mountain': False, 'method': False, 'rage': False, 'anthoni': False, 'irrit': False, 'shout': False, 'hopkin': False, 'sarah': False, 'sink': False, 'abus': False, 'williamson': False, 'wrap': True, 'hey': False, 'quest': False, 'recal': False, 'digit': False, 'influenc': False, 'joel': False, 'andrew': False, '60': False, 'foreign': False, 'sorri': False, 'built': False, 'terri': False, 'stranger': False, 'religi': False, 'reminisc': False, 'michel': False, 'hollow': False, 'area': False, 'freeman': False, 'sidney': False, 'hype': False, 'unusu': False, 'spark': False, 'pig': False, 'load': False, 'scorses': False, 'accident': False, 'favor': False, 'doom': False, 'cusack': False, 'conveni': False, 'convey': False, '15': False, '1995': False, 'prevent': False, 'wrestl': False, 'gotten': False, 'chief': False, 'absurd': False, 'statement': False, 'derek': False, 'instal': False, 'everybodi': False, 'barri': False, 'noir': False, 'boogi': False, 'clooney': False, 'nicholson': False, 'regard': False, 'elabor': False, 'revel': False, 'heavili': False, 'armageddon': False, 'corrupt': False, 'provok': False, 'leg': False, 'mainli': False, 'unexpect': False, 'ticket': False, 'schwarzenegg': False, 'freedom': False, 'activ': False, 'fool': False, 'previous': False, 'spoiler': False, 'keaton': False, 'ideal': False, 'synopsi': False, 'opera': False, 'lawrenc': False, 'stallon': False, 'pretend': False, 'perspect': False, 'block': False, 'ensu': False, 'repeat': False, 'compos': False, 'bag': False, 'honor': False, 'bobbi': True, 'expens': False, 'german': False, 'bacon': False, 'bigger': False, 'cheat': False, 'prefer': False, 'contribut': False, 'morn': False, 'princ': False, 'promot': False, 'dare': False, 'theori': False, 'assassin': False, 'astronaut': False, 'leagu': False, 'condit': False, 'courtroom': False, 'jaw': False, 'cynic': False, 'verhoeven': False, 'ocean': False, 'spin': False, 'london': False, 'ripley': False, 'degre': False, 'justic': False, 'dragon': False, 'psycho': False, 'jonathan': False, 'grown': False, 'unnecessari': False, 'deni': False, 'letter': False, 'alic': False, 'friendship': False, 'jon': False, 'bet': False, 'corner': False, 'christian': False, 'insan': False, 'exercis': False, 'elli': False, 'bitter': False, 'balanc': False, 'fifteen': False, 'eric': False, 'extend': False, 'preview': False, 'youth': False, 'threat': False, 'examin': False, 'conspiraci': False, 'eve': False, 'niro': False, 'anna': False, 'circumst': False, 'research': False, 'addict': False, 'survivor': False, 'sum': False, 'popul': False, 'nazi': False, 'critiqu': False, 'resid': False, 'knight': False, 'wound': False, 'pari': False, 'jungl': False, 'held': False, 'photograph': False, 'account': False, 'depend': False, 'domin': False, 'uninterest': False, 'priest': False, 'invit': False, 'mom': False, 'cowboy': False, 'duval': False, 'identifi': False, 'emerg': False, 'greater': False, 'breast': False, 'shrek': False, 'whenev': False, 'basebal': False, 'bullet': False, 'unknown': False, 'neil': False, 'storytel': False, 'construct': False, 'tragic': False, 'tight': False, 'magazin': False, 'arquett': False, 'dinner': False, 'jake': False, 'concentr': False, 'sitcom': False, 'feder': False, 'farrelli': True, 'string': False, 'necessarili': False, 'drunken': False, 'fallen': False, 'franc': False, 'distinct': False, 'trade': False, 'select': False, '17': False, 'endur': False, 'borrow': False, 'n': False, 'dirti': False, 'tortur': False, 'afraid': False, 'trilog': False, 'devot': False, 'halloween': False, 'loss': False, 'wilson': False, 'nine': False, 'solv': False, 'offici': False, 'grade': False, 'climact': False, 'flow': False, 'luke': False, 'chill': False, 'ala': False, 'factor': False, 'lesson': False, 'sidekick': True, 'brad': False, 'stab': False, 'chicago': False, 'chuckl': False, 'met': False, 'float': False, 'paper': False, 'cook': False, 'behavior': False, 'bulworth': False, 'soft': False, 'murray': True, 'truck': False, 'dean': False, 'p': False, 'spiritu': False, 'stiller': False, 'cost': False, 'tree': False, 'oddli': False, 'england': False, 'complain': False, 'transport': False, 'bowl': False, 'broderick': False, 'china': False, 'coach': False, 'guest': False, 'peac': False, 'bite': False, 'quaid': False, 'dri': False, 'ensembl': False, 'slip': False, 'vacat': False, 'prime': False, 'shape': False, 'todd': False, 'chain': False, 'laughter': False, 'nevertheless': False, 'melvin': False, 'skip': False, 'stolen': False, 'fatal': False, 'wealthi': False, 'switch': False, 'donnel': False, 'fu': False, 'toss': False, 'bird': False, 'weekend': False, '12': True, 'redeem': False, 'lewi': False, 'belov': False, 'tape': False, 'predecessor': False, 'deadli': False, 'andi': False, 'franci': False, 'spoil': False, 'techniqu': False, 'quirki': False, 'nbsp': False, 'endless': False, 'fugit': False, 'schumach': False, '2001': False, 'li': False, 'precis': False, 'fulfil': False, 'rick': False, 'defens': False, 'bang': False, 'trial': False, 'keanu': False, 'metal': False, 'glass': False, 'neg': False, 'bride': False, 'meg': False, 'retir': False, 'belief': False, 'greg': False, 'freez': False, 'sudden': False, 'drunk': False, 'notch': False, 'lake': False, 'halfway': False, 'campaign': False, 'yell': False, 'multipl': False, 'host': False, 'forgiv': False, 'creation': False, 'mickey': False, 'extraordinari': False, 'notion': False, 'photographi': False, 'mid': False, 'own': False, 'marshal': False, 'river': False, 'ethan': False, 'experienc': False, 'italian': False, 'measur': False, 'lo': False, 'overcom': False, 'davi': False, 'pitt': False, 'coen': False, 'lebowski': False, 'medic': False, 'commentari': False, 'unfold': False, 'texa': False, 'citizen': False, 'friendli': False, 'ian': False, 'spoof': False, 'phil': True, 'crisi': False, '0': False, 'arrest': False, 'unabl': False, 'alcohol': False, 'kung': False, 'assur': True, 'pose': False, 'childhood': False, 'quot': False, 'enorm': False, 'anywher': False, 'gonna': False, 'freddi': False, 'controversi': False, 'barrymor': False, 'roommat': False, 'frankli': False, 'fals': False, 'norton': False, 'setup': False, 'ordinari': False, 'finest': False, 'fairi': False, 'benefit': False, 'cole': False, 'goodman': False, 'finger': False, 'homag': False, 'deeper': False, 'split': False, 'nonetheless': False, 'advic': False, 'karen': False, 'boast': False, 'terrifi': False, 'pile': False, 'reward': False, 'sentenc': False, 'erot': False, 'sin': False, 'disguis': False, 'link': False, 'anticip': False, 'divorc': False, 'horizon': False, 'diamond': False, 'villag': False, 'enhanc': False, 'vagu': False, 'mass': False, 'likeabl': False, 'saturday': False, 'entri': False, 'albeit': False, 'paid': False, 'birth': False, 'accur': False, 'soap': False, 'glenn': False, 'festiv': False, 'jet': False, 'fifth': False, 'mirror': False, 'mail': False, 'presum': False, 'obligatori': False, 'larger': False, 'alter': False, 'basi': False, 'hitchcock': False, 'accord': False, 'mtv': False, 'holiday': False, 'hack': False, '1980': False, 'creator': False, 'peak': False, 'mechan': False, 'weight': False, 'closer': False, 'trio': False, 'religion': False, 'jurass': False, 'tribe': False, 'isol': False, '1960': False, 'romeo': False, 'aforement': False, 'gut': False, 'announc': False, 'lend': False, 'prais': False, '1970': False, 'restaur': True, 'pitch': False, 'dump': False, 'pre': False, '40': False, 'induc': False, 'drew': False, 'adopt': False, 'dealer': False, 'blank': False, 'obnoxi': False, 'connor': False, 'correct': False, 'airplan': False, 'importantli': False, 'financi': False, 'costner': False, 'dan': False, 'treatment': False, 'hoffman': False, 'maggi': False, 'spacey': False, 'mous': False, 'forest': False, 'categori': False, 'adequ': False, 'cox': False, 'gene': False, 'graduat': True, 'clueless': False, 'leap': False, 'demon': False, 'inept': False, 'howard': False, 'anger': False, 'dedic': False, 'incid': False, 'deepli': False, 'sixth': False, 'editor': False, 'gather': False, 'surreal': False, 'bleak': False, 'expo': False, 'golden': False, 'custom': False, 'primari': False, 'persona': False, 'flight': False, 'lloyd': False, 'kenneth': False, 'silver': False, 'contemporari': False, 'judd': False, 'rees': False, 'sir': False, 'we': False, 'bastard': False, 'cgi': False, 'border': False, 'blind': False, 'cabl': False, 'midnight': False, 'deriv': False, 'expert': False, 'captiv': False, 'higher': False, 'ear': False, 'tini': False, 'sandra': False, 'buzz': False, 'shut': True, 'nonsens': False, 'wreck': False, 'circl': False, 'unintent': False, 'page': False, 'multi': False, 'engin': False, 'prinz': False, 'gorgeou': False, 'gabriel': False, 'par': False, 'hood': False, 'lisa': False, 'grip': False, 'morgan': False, 'sceneri': False, 'mafia': False, 'penn': False, 'beatti': False, 'lift': False, 'dillon': False, 'directori': False, 'dick': False, 'foster': False, 'burst': False, 'san': False, 'afterward': False, 'blown': False, 'proof': False, 'jackal': False, 'sincer': False, 'absorb': False, '2000': False, 'parker': False, '54': False, 'besson': False, 'stir': False, 'sword': False, 'stalk': False, 'disbelief': False, 'capsul': True, 'explod': False, 'pregnant': False, 'semi': False, 'wire': False, 'countless': False, 'mortal': False, 'inhabit': False, 'graham': False, 'inan': False, 'whatsoev': False, 'wong': False, 'environ': False, 'aspir': False, 'campi': False, 'gadget': False, 'gratuit': False, 'sheriff': False, 'sun': False, 'forth': False, 'meyer': False, 'pleasant': False, 'glimps': False, 'phillip': False, 'corni': False, 'tucker': False, 'freak': False, 'depp': False, 'portion': False, 'laura': False, 'ancient': False, 'brilliantli': False, 'ordel': False, 'wooden': False, 'justifi': False, 'warner': False, 'fighter': False, 'assault': False, 'parallel': False, 'sake': False, 'trite': False, 'awkward': False, 'superfici': False, 'natasha': False, 'kilmer': False, 'endear': False, 'boil': True, 'thief': False, 'invest': False, 'dialog': False, 'sonni': False, 'defend': False, 'mitchel': False, 'luci': False, 'distanc': False, 'shark': False, 'horrifi': False, 'stylish': False, 'refresh': False, 'sophist': False, 'luckili': False, 'network': False, 'butt': False, 'invis': False, 'kim': False, 'johnson': False, 'argument': False, 'labor': False, 'grab': False, 'disco': False, 'stewart': False, 'authent': False, 'echo': False, 'pet': False, 'spoken': False, 'roth': False, 'irish': False, 'craze': False, 'mighti': False, 'gorilla': False, 'phrase': False, 'energet': False, 'caricatur': False, 'harrelson': False, '1993': False, 'betray': False, 'broadcast': False, 'fienn': False, 'befriend': False, 'com': False, 'damag': False, 'mainstream': False, 'emma': False, 'pauli': False, 'site': False, 'fincher': False, 'tour': False, 'tea': False, 'artifici': False, 'sat': False, 'cruel': False, 'gradual': False, 'baker': False, 'neeson': False, 'recreat': False, 'millionair': False, 'owen': False, 'fred': False, 'triumph': False, 'octob': False, 'sympathi': False, 'pacino': False, 'interpret': False, 'whale': False, 'dicaprio': False, 'reject': False, 'wannab': False, 'repetit': False, 'mystic': False, 'realism': False, 'jan': False, 'util': False, 'inner': False, 'stare': False, 'north': False, 'satan': False, 'jordan': False, 'increasingli': False, 'function': False, 'subtleti': False, 'tyler': False, 'offend': False, 'indian': False, 'vulner': False, 'ludicr': False, 'ron': False, 'princip': False, 'varieti': False, 'kubrick': False, 'tediou': False, 'reput': False, 'discoveri': False, 'be': False, 'sneak': False, 'amanda': False, 'esqu': False, 'psychot': False, 'cuba': False, 'immens': False, 'gambl': False, 'capit': False, 'legendari': False, 'neve': False, 'suspici': False, 'proclaim': False, 'franchis': False, 'acclaim': False, 'susan': False, 'scenario': False, 'paltrow': False, 'coincid': False, 'wan': False, 'negoti': False, 'occas': False, 'await': False, 'pursu': False, 'joli': False, 'branagh': False, 'donni': False, 'heat': False, 'holm': False, 'arthur': False, 'shower': False, 'pan': False, 'tag': False, 'advantag': False, 'handsom': False, 'cathol': False, 'insist': False, 'nail': False, 'henstridg': False, 'alicia': False, 'crush': False, 'disgust': False, 'basketbal': False, 'guid': False, 'ho': False, 'advertis': False, 'conceiv': False, 'punish': False, 'gem': False, 'ventur': False, 'glori': False, 'profan': False, 'anaconda': False, 'betti': False, 'random': False, 'pretenti': False, 'randi': False, 'lifeless': False, 'suitabl': False, 'showcas': False, 'hostag': False, 'snipe': False, 'profess': False, 'charisma': False, 'makeup': False, 'thompson': False, 'infam': False, 'via': False, 'anymor': False, 'gordon': False, 'gori': False, 'flubber': False, 'robocop': False, 'robbi': False, 'empir': False, 'strain': False, 'anybodi': False, 'prostitut': False, 'deliveri': False, 'uninspir': False, 'stronger': False, 'glanc': False, 'spare': False, 'prior': False, 'shoulder': False, 'dazzl': False, 'cooper': False, 'illustr': False, 'supernatur': False, 'suppli': False, 'sensibl': False, 'merit': False, 'section': False, 'guarante': False, 'swear': False, 'bandera': False, 'jesu': False, 'fonda': False, 'everywher': False, 'crucial': False, 'carol': False, 'doll': False, 'wallac': False, 'piti': False, 'session': False, 'assembl': False, '1994': False, 'grave': False, 'reduc': True, 'buri': False, 'gloria': False, '\\x12': False, 'corpor': False, 'malkovich': False, 'homosexu': False, 'resolut': False, 'wahlberg': False, 'craven': False, 'downright': False, 'courag': False, 'genet': False, 'flashi': False, 'rank': False, '1990': False, 'turkey': False, '8mm': False, 'bubbl': False, 'puzzl': False, 'california': False, 'inject': False, 'shirt': False, 'portrait': False, 'bathroom': False, 'eeri': False, 'cauldron': False, 'spell': False, 'lip': False, 'urg': False, 'trend': False, 'spring': False, 'reluct': False, 'promin': False, 'lethal': True, 'hackman': False, 'foul': False, 'mildli': False, 'albert': False, 'stanley': False, 'resolv': False, 'chair': False, 'jeffrey': False, 'lesbian': False, 'pool': False, 'southern': False, 'denis': False, 'nose': False, 'braveheart': False, 'k': False, 'palma': False, 'legal': False, 'ingredi': False, 'snow': False, 'birthday': False, 'lang': False, 'breathtak': False, 'diaz': False, 'castl': False, 'jami': False, 'recycl': False, 'ironi': False, 'dinosaur': False, 'ambiti': False, 'altman': False, 'blend': False, 'imageri': False, 'choreograph': False, 'pam': False, 'lock': False, 'dub': False, 'drown': False, 'paxton': False, 'compet': False, 'garbag': False, 'print': False, 'uncov': False, 'eager': False, 'luc': False, 'pen': False, 'ashley': False, 'ador': False, 'recruit': False, 'conneri': False, 'educ': False, 'blast': False, 'un': False, 'fanci': False, 'brand': False, 'hawk': False, 'pat': False, 'wildli': False, 'nativ': False, 'passeng': False, 'token': False, 'invad': False, 'leo': False, 'mate': False, 'obi': False, 'disc': False, 'gere': False, 'sleepi': False, 'frankenstein': False, 'clone': False, 'colonel': False, 'sensit': False, 'elect': False, 'quentin': False, 'till': False, 'subsequ': False, 'companion': False, 'indulg': False, 'finn': False, 'packag': False, 'dig': False, 'squad': False, 'slick': False, 'instantli': False, 'chick': False, 'coat': False, 'torn': False, 'oppos': False, 'clown': False, 'flee': False, 'chose': False, 'combat': False, 'battlefield': False, 'heather': False, 'silenc': False, 'cousin': False, 'tongu': False, 'defeat': False, 'lay': False, 'fund': False, 'fix': False, 'arrog': False, 'jerk': False, 'duke': False, 'fianc': False, 'zeta': False, 'astonish': False, 'buscemi': False, 'comet': False, 'thug': False, 'liber': False, 'viciou': False, 'rat': False, 'declar': False, 'implaus': False, 'duti': False, 'charismat': False, 'thurman': False, 'uncomfort': False, 'pun': True, 'robbin': False, 'flawless': False, 'resist': False, 'ant': False, 'gattaca': False, 'phenomenon': False, 'inspector': False, 'kay': False, 'broad': False, 'spread': False, 'emperor': False, 'smash': False, 'sinis': False, 'overact': False, 'analyz': False, 'poke': False, 'context': False, 'hokey': False, 'rachel': False, 'reviv': False, 'h': False, 'rebel': False, 'cave': False, 'moron': False, 'emili': False, 'griffith': False, 'meat': False, 'awesom': False, 'farm': False, 'lion': False, 'alec': False, 'martha': False, 'react': False, 'upper': False, 'ambigu': False, 'reserv': False, 'bottl': False, 'attach': False, 'liam': False, 'fourth': False, 'restor': False, 'malcolm': False, 'profit': False, 'fargo': False, 'ricki': False, 'harrison': False, 'clerk': False, 'loyal': False, 'trace': False, 'felix': False, 'tremend': False, 'kudrow': False, 'philosophi': False, 'enterpris': False, 'watson': False, 'magnific': False, 'poker': False, 'antz': False, 'sutherland': False, 'gear': False, 'melodrama': False, 'admittedli': False, 'increas': False, 'easier': False, 'martian': False, 'sleazi': False, 'toilet': False, 'respond': False, 'worthwhil': False, 'advis': False, 'grier': False, 'competit': False, 'pound': False, 'twister': False, 'plant': False, 'somebodi': False, 'quinn': False, 'claud': False, 'inexplic': False, 'crook': False, 'bud': False, 'hurrican': False, 'fabl': False, 'confess': False, 'straightforward': False, 'antic': False, 'primarili': False, 'pattern': False, 'victori': False, 'bulli': False, 'shall': False, 'ross': False, 'lou': False, 'resort': False, 'plausibl': False, 'bay': False, 'upset': False, 'strand': False, 'joseph': False, 'glad': False, 'unpredict': False, 'cromwel': False, 'internet': False, 'slide': False, 'flame': False, 'newcom': False, 'secretli': False, 'mcgregor': False, 'anakin': False, 'topic': False, 'translat': False, 'east': False, 'hat': False, 'institut': False, 'illeg': False, 'melodramat': False, 'alfr': False, 'data': False, 'ellen': False, 'porter': False, 'updat': False, 'virgin': False, 'courtney': False, 'lazi': False, 'donald': False, 'savag': False, 'client': False, 'nervou': False, 'metaphor': False, 'roman': False, 'egg': True, 'trademark': False, 'per': False, 'casino': False, 'equip': False, 'teeth': False, 'label': False, 'harsh': False, 'fell': False, 'insert': False, 'colleagu': False, 'ali': False, 'schindler': False, 'nurs': False, 'sloppi': False, 'wash': False, 'molli': True, 'delici': False, 'sinist': False, 'heck': False, 'carl': False, 'mock': False, 'warren': False, 'showgirl': False, 'corp': False, 'sketch': False, 'address': False, 'newli': False, 'holi': False, 'darth': False, 'canadian': False, 'uncl': False, 'altogeth': False, 'lyric': False, 'massiv': False, 'underground': False, 'subtitl': False, 'honestli': False, 'iren': True, 'bumbl': False, 'dynam': False, 'ace': False, 'galaxi': False, 'employe': False, 'mill': False, 'philip': False, 'beverli': False, 'geoffrey': False, 'krippendorf': False, 'resurrect': False, 'angela': False, 'neo': False, 'ton': False, 'curti': False, 'outfit': False, 'ponder': False, 'showdown': False, 'unpleas': False, 'shake': False, 'loath': False, 'render': False, 'degener': False, 'happili': False, 'revers': False, 'briefli': False, 'slap': False, 'realm': False, 'helm': False, 'shoe': False, 'sorvino': False, 'redempt': False, 'kinda': False, 'mansion': False, 'vinc': False, 'forti': False, 'godfath': False, 'wacki': False, 'descript': False, 'leonard': False, 'robberi': False, 'volcano': False, 'musician': False, 'hop': False, 'jessica': False, 'collabor': False, 'launch': False, 'ha': False, 'lower': False, 'perpetu': False, 'monti': False, 'debat': False, 'linda': False, 'devast': False, 'ricci': False}, 'neg')\n"
          ],
          "name": "stdout"
        }
      ]
    },
    {
      "cell_type": "code",
      "metadata": {
        "id": "LVJZYNqyUgVP",
        "colab_type": "code",
        "outputId": "b1d1a7f9-b004-4540-f499-66faddc9d7d4",
        "colab": {
          "base_uri": "https://localhost:8080/",
          "height": 34
        }
      },
      "source": [
        "print(len(featuresets))\n",
        "train_set = featuresets[:1900]\n",
        "test_set = featuresets[1900:]"
      ],
      "execution_count": 0,
      "outputs": [
        {
          "output_type": "stream",
          "text": [
            "2000\n"
          ],
          "name": "stdout"
        }
      ]
    },
    {
      "cell_type": "code",
      "metadata": {
        "id": "5uhCkqN5VCUp",
        "colab_type": "code",
        "colab": {}
      },
      "source": [
        "clf = nltk.NaiveBayesClassifier.train(train_set)"
      ],
      "execution_count": 0,
      "outputs": []
    },
    {
      "cell_type": "code",
      "metadata": {
        "id": "CpHcWerxVPMj",
        "colab_type": "code",
        "outputId": "18f9ccb9-5b3a-4e3b-e53d-7a86ccab6a09",
        "colab": {
          "base_uri": "https://localhost:8080/",
          "height": 34
        }
      },
      "source": [
        "print(nltk.classify.accuracy(clf, test_set)*100,'%')"
      ],
      "execution_count": 0,
      "outputs": [
        {
          "output_type": "stream",
          "text": [
            "84.0 %\n"
          ],
          "name": "stdout"
        }
      ]
    },
    {
      "cell_type": "code",
      "metadata": {
        "id": "9kpQIHqLVmGK",
        "colab_type": "code",
        "colab": {}
      },
      "source": [
        "test_input = list()\n",
        "test_output = list()\n",
        "for input, output in test_set:\n",
        "  test_input.append(input)\n",
        "  test_output.append(output)\n",
        "predictions = clf.classify_many(test_input)"
      ],
      "execution_count": 0,
      "outputs": []
    },
    {
      "cell_type": "code",
      "metadata": {
        "id": "hwjJJQS7VOqx",
        "colab_type": "code",
        "outputId": "bbba730b-2044-46d0-85a4-e1a2226b58ac",
        "colab": {
          "base_uri": "https://localhost:8080/",
          "height": 170
        }
      },
      "source": [
        "from sklearn.metrics import classification_report\n",
        "print(classification_report(test_output, predictions))"
      ],
      "execution_count": 0,
      "outputs": [
        {
          "output_type": "stream",
          "text": [
            "              precision    recall  f1-score   support\n",
            "\n",
            "         neg       0.76      0.90      0.83        42\n",
            "         pos       0.92      0.79      0.85        58\n",
            "\n",
            "    accuracy                           0.84       100\n",
            "   macro avg       0.84      0.85      0.84       100\n",
            "weighted avg       0.85      0.84      0.84       100\n",
            "\n"
          ],
          "name": "stdout"
        }
      ]
    }
  ]
}