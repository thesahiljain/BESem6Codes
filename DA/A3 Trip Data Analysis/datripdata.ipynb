{
  "nbformat": 4,
  "nbformat_minor": 0,
  "metadata": {
    "colab": {
      "name": "datripdata.ipynb",
      "provenance": []
    },
    "kernelspec": {
      "name": "python3",
      "display_name": "Python 3"
    }
  },
  "cells": [
    {
      "cell_type": "code",
      "metadata": {
        "id": "DdTmTfu4ET5p",
        "colab_type": "code",
        "outputId": "59ffcf32-2014-4cad-c214-9e4ae7aefd96",
        "colab": {
          "base_uri": "https://localhost:8080/",
          "height": 85
        }
      },
      "source": [
        "# Dataset load\n",
        "import pandas as pd\n",
        "url = 'https://s3.amazonaws.com/capitalbikeshare-data/201908-capitalbikeshare-tripdata.zip'\n",
        "df = pd.read_csv(url, compression='zip')\n",
        "print(df.columns)"
      ],
      "execution_count": 1,
      "outputs": [
        {
          "output_type": "stream",
          "text": [
            "Index(['Duration', 'Start date', 'End date', 'Start station number',\n",
            "       'Start station', 'End station number', 'End station', 'Bike number',\n",
            "       'Member type'],\n",
            "      dtype='object')\n"
          ],
          "name": "stdout"
        }
      ]
    },
    {
      "cell_type": "code",
      "metadata": {
        "id": "q68t9G74FmtV",
        "colab_type": "code",
        "outputId": "fa9c7f86-41b6-4904-bedb-c563345cfaee",
        "colab": {
          "base_uri": "https://localhost:8080/",
          "height": 306
        }
      },
      "source": [
        "# Preprocessing\n",
        "df.dropna(inplace=True)\n",
        "df.columns = ['duration', 'start_date', 'end_date', 'start_station_number', 'start_station', 'end_station_number', 'end_station', 'bike_number', 'class']\n",
        "print(df.shape)\n",
        "df.head()"
      ],
      "execution_count": 2,
      "outputs": [
        {
          "output_type": "stream",
          "text": [
            "(360044, 9)\n"
          ],
          "name": "stdout"
        },
        {
          "output_type": "execute_result",
          "data": {
            "text/html": [
              "<div>\n",
              "<style scoped>\n",
              "    .dataframe tbody tr th:only-of-type {\n",
              "        vertical-align: middle;\n",
              "    }\n",
              "\n",
              "    .dataframe tbody tr th {\n",
              "        vertical-align: top;\n",
              "    }\n",
              "\n",
              "    .dataframe thead th {\n",
              "        text-align: right;\n",
              "    }\n",
              "</style>\n",
              "<table border=\"1\" class=\"dataframe\">\n",
              "  <thead>\n",
              "    <tr style=\"text-align: right;\">\n",
              "      <th></th>\n",
              "      <th>duration</th>\n",
              "      <th>start_date</th>\n",
              "      <th>end_date</th>\n",
              "      <th>start_station_number</th>\n",
              "      <th>start_station</th>\n",
              "      <th>end_station_number</th>\n",
              "      <th>end_station</th>\n",
              "      <th>bike_number</th>\n",
              "      <th>class</th>\n",
              "    </tr>\n",
              "  </thead>\n",
              "  <tbody>\n",
              "    <tr>\n",
              "      <th>0</th>\n",
              "      <td>357</td>\n",
              "      <td>2019-08-01 00:00:34</td>\n",
              "      <td>2019-08-01 00:06:31</td>\n",
              "      <td>31117</td>\n",
              "      <td>15th &amp; Euclid St  NW</td>\n",
              "      <td>31115</td>\n",
              "      <td>Columbia Rd &amp; Georgia Ave NW</td>\n",
              "      <td>W21052</td>\n",
              "      <td>Member</td>\n",
              "    </tr>\n",
              "    <tr>\n",
              "      <th>1</th>\n",
              "      <td>1100</td>\n",
              "      <td>2019-08-01 00:01:48</td>\n",
              "      <td>2019-08-01 00:20:09</td>\n",
              "      <td>31407</td>\n",
              "      <td>14th St &amp; Colorado Ave NW</td>\n",
              "      <td>31115</td>\n",
              "      <td>Columbia Rd &amp; Georgia Ave NW</td>\n",
              "      <td>W01101</td>\n",
              "      <td>Member</td>\n",
              "    </tr>\n",
              "    <tr>\n",
              "      <th>2</th>\n",
              "      <td>1406</td>\n",
              "      <td>2019-08-01 00:04:04</td>\n",
              "      <td>2019-08-01 00:27:31</td>\n",
              "      <td>31407</td>\n",
              "      <td>14th St &amp; Colorado Ave NW</td>\n",
              "      <td>31234</td>\n",
              "      <td>20th &amp; O St NW / Dupont South</td>\n",
              "      <td>W20870</td>\n",
              "      <td>Casual</td>\n",
              "    </tr>\n",
              "    <tr>\n",
              "      <th>3</th>\n",
              "      <td>3667</td>\n",
              "      <td>2019-08-01 00:05:09</td>\n",
              "      <td>2019-08-01 01:06:16</td>\n",
              "      <td>31907</td>\n",
              "      <td>Franklin St &amp; S Washington St</td>\n",
              "      <td>31907</td>\n",
              "      <td>Franklin St &amp; S Washington St</td>\n",
              "      <td>W00966</td>\n",
              "      <td>Member</td>\n",
              "    </tr>\n",
              "    <tr>\n",
              "      <th>4</th>\n",
              "      <td>282</td>\n",
              "      <td>2019-08-01 00:05:13</td>\n",
              "      <td>2019-08-01 00:09:56</td>\n",
              "      <td>31201</td>\n",
              "      <td>15th &amp; P St NW</td>\n",
              "      <td>31234</td>\n",
              "      <td>20th &amp; O St NW / Dupont South</td>\n",
              "      <td>W20443</td>\n",
              "      <td>Member</td>\n",
              "    </tr>\n",
              "  </tbody>\n",
              "</table>\n",
              "</div>"
            ],
            "text/plain": [
              "   duration           start_date  ... bike_number   class\n",
              "0       357  2019-08-01 00:00:34  ...      W21052  Member\n",
              "1      1100  2019-08-01 00:01:48  ...      W01101  Member\n",
              "2      1406  2019-08-01 00:04:04  ...      W20870  Casual\n",
              "3      3667  2019-08-01 00:05:09  ...      W00966  Member\n",
              "4       282  2019-08-01 00:05:13  ...      W20443  Member\n",
              "\n",
              "[5 rows x 9 columns]"
            ]
          },
          "metadata": {
            "tags": []
          },
          "execution_count": 2
        }
      ]
    },
    {
      "cell_type": "code",
      "metadata": {
        "id": "4JTag4EGKGhF",
        "colab_type": "code",
        "colab": {}
      },
      "source": [
        "# Train test split\n",
        "import numpy as np\n",
        "from sklearn import model_selection\n",
        "X = np.array(df[['duration', 'start_station_number', 'end_station_number']])\n",
        "Y = np.array(df['class'])\n",
        "X_train, X_test, Y_train, Y_test = model_selection.train_test_split(X, Y, test_size=0.2)"
      ],
      "execution_count": 0,
      "outputs": []
    },
    {
      "cell_type": "code",
      "metadata": {
        "id": "EGTD3DhfmV3G",
        "colab_type": "code",
        "outputId": "61d1c308-41e8-4d52-ddcc-ece22161fc84",
        "colab": {
          "base_uri": "https://localhost:8080/",
          "height": 68
        }
      },
      "source": [
        "# Training the classifier\n",
        "from sklearn.neighbors import KNeighborsClassifier\n",
        "clf = KNeighborsClassifier()\n",
        "clf.fit(X_train, Y_train)"
      ],
      "execution_count": 4,
      "outputs": [
        {
          "output_type": "execute_result",
          "data": {
            "text/plain": [
              "KNeighborsClassifier(algorithm='auto', leaf_size=30, metric='minkowski',\n",
              "                     metric_params=None, n_jobs=None, n_neighbors=5, p=2,\n",
              "                     weights='uniform')"
            ]
          },
          "metadata": {
            "tags": []
          },
          "execution_count": 4
        }
      ]
    },
    {
      "cell_type": "code",
      "metadata": {
        "id": "6zaZYu4ObvTW",
        "colab_type": "code",
        "colab": {
          "base_uri": "https://localhost:8080/",
          "height": 238
        },
        "outputId": "62f85f77-57fa-43a9-973b-17fa534942b2"
      },
      "source": [
        "# Result and report\n",
        "from sklearn.metrics import classification_report\n",
        "predictions = clf.predict(X_test)\n",
        "print(classification_report(Y_test, predictions))\n",
        "print(predictions[:10])\n",
        "print(Y_test[:10])"
      ],
      "execution_count": 5,
      "outputs": [
        {
          "output_type": "stream",
          "text": [
            "              precision    recall  f1-score   support\n",
            "\n",
            "      Casual       0.52      0.33      0.40     10321\n",
            "      Member       0.89      0.95      0.92     61688\n",
            "\n",
            "    accuracy                           0.86     72009\n",
            "   macro avg       0.71      0.64      0.66     72009\n",
            "weighted avg       0.84      0.86      0.85     72009\n",
            "\n",
            "['Member' 'Casual' 'Member' 'Member' 'Member' 'Casual' 'Member' 'Member'\n",
            " 'Member' 'Member']\n",
            "['Member' 'Casual' 'Member' 'Casual' 'Member' 'Casual' 'Member' 'Member'\n",
            " 'Casual' 'Member']\n"
          ],
          "name": "stdout"
        }
      ]
    }
  ]
}